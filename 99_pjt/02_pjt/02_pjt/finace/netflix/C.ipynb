{
 "cells": [
  {
   "cell_type": "markdown",
   "id": "a5f5d769-3894-4c45-b639-db392dab0407",
   "metadata": {},
   "source": [
    "# C. 데이터 분석 – 2021년 이후 최고, 최저 종가 출력하기"
   ]
  },
  {
   "cell_type": "code",
   "execution_count": 2,
   "id": "eff15ce4-0d2d-42d3-aeed-cbeec57ea617",
   "metadata": {},
   "outputs": [],
   "source": [
    "# 패키지 import\n",
    "import numpy as np\n",
    "import pandas as pd\n",
    "import matplotlib.pyplot as plt"
   ]
  },
  {
   "cell_type": "code",
   "execution_count": 3,
   "id": "629e244b-684c-4362-9b1c-1d5aa6f68b30",
   "metadata": {},
   "outputs": [],
   "source": [
    "# CSV 파일 경로\n",
    "csv_path = \"data/NFLX.csv\"\n",
    "\n",
    "# CSV 파일 읽어오기\n",
    "df = pd.read_csv(csv_path, usecols=range(5))"
   ]
  },
  {
   "cell_type": "code",
   "execution_count": 4,
   "id": "0b74670d-edae-47b8-8bf6-f0d85b64e2bd",
   "metadata": {},
   "outputs": [],
   "source": [
    "# 날짜 데이터 변환\n",
    "df[\"Date\"] = pd.to_datetime(df[\"Date\"])\n",
    "\n",
    "# 날짜 필터링\n",
    "df_after_2021 = df[df[\"Date\"] >= \"2021-01-01\"].copy()"
   ]
  },
  {
   "cell_type": "code",
   "execution_count": 5,
   "id": "a7572006-9bfd-4a1e-a559-f373cebeffe1",
   "metadata": {},
   "outputs": [
    {
     "name": "stdout",
     "output_type": "stream",
     "text": [
      "최고 종가: 691.690002\n",
      "최저 종가: 359.700012\n"
     ]
    }
   ],
   "source": [
    "# 최고, 최저종가 구하기\n",
    "max_price = df_after_2021[\"Close\"].max()\n",
    "min_price = df_after_2021[\"Close\"].min()\n",
    "\n",
    "# 출력\n",
    "print(\"최고 종가:\", max_price)\n",
    "print(\"최저 종가:\", min_price)"
   ]
  },
  {
   "cell_type": "code",
   "execution_count": null,
   "id": "2f72a071-11a5-46d2-923b-857bb288754b",
   "metadata": {},
   "outputs": [],
   "source": []
  }
 ],
 "metadata": {
  "kernelspec": {
   "display_name": "Python 3 (ipykernel)",
   "language": "python",
   "name": "python3"
  },
  "language_info": {
   "codemirror_mode": {
    "name": "ipython",
    "version": 3
   },
   "file_extension": ".py",
   "mimetype": "text/x-python",
   "name": "python",
   "nbconvert_exporter": "python",
   "pygments_lexer": "ipython3",
   "version": "3.9.13"
  }
 },
 "nbformat": 4,
 "nbformat_minor": 5
}
